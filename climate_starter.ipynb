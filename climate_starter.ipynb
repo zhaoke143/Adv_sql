{
 "cells": [
  {
   "cell_type": "code",
   "execution_count": 1,
   "metadata": {},
   "outputs": [],
   "source": [
    "%matplotlib inline\n",
    "from matplotlib import style\n",
    "style.use('fivethirtyeight')\n",
    "import matplotlib.pyplot as plt"
   ]
  },
  {
   "cell_type": "code",
   "execution_count": 2,
   "metadata": {},
   "outputs": [],
   "source": [
    "import numpy as np\n",
    "import pandas as pd"
   ]
  },
  {
   "cell_type": "code",
   "execution_count": 3,
   "metadata": {},
   "outputs": [],
   "source": [
    "import datetime as dt"
   ]
  },
  {
   "cell_type": "markdown",
   "metadata": {},
   "source": [
    "# Reflect Tables into SQLAlchemy ORM"
   ]
  },
  {
   "cell_type": "code",
   "execution_count": 4,
   "metadata": {},
   "outputs": [],
   "source": [
    "# Python SQL toolkit and Object Relational Mapper\n",
    "import sqlalchemy\n",
    "from sqlalchemy.ext.automap import automap_base\n",
    "from sqlalchemy.orm import Session\n",
    "from sqlalchemy import create_engine, func\n",
    "from sqlalchemy import inspect, desc"
   ]
  },
  {
   "cell_type": "code",
   "execution_count": 5,
   "metadata": {},
   "outputs": [],
   "source": [
    "engine = create_engine(\"sqlite:///Resources/hawaii.sqlite\")"
   ]
  },
  {
   "cell_type": "code",
   "execution_count": 6,
   "metadata": {},
   "outputs": [],
   "source": [
    "# reflect an existing database into a new model\n",
    "Base = automap_base()\n",
    "# reflect the tables\n",
    "Base.prepare(engine, reflect=True)"
   ]
  },
  {
   "cell_type": "code",
   "execution_count": 7,
   "metadata": {},
   "outputs": [
    {
     "data": {
      "text/plain": [
       "['measurement', 'station']"
      ]
     },
     "execution_count": 7,
     "metadata": {},
     "output_type": "execute_result"
    }
   ],
   "source": [
    "# We can view all of the classes that automap found\n",
    "Base.classes.keys()"
   ]
  },
  {
   "cell_type": "code",
   "execution_count": 8,
   "metadata": {},
   "outputs": [],
   "source": [
    "# Save references to each table\n",
    "Measurement = Base.classes.measurement\n",
    "Station = Base.classes.station"
   ]
  },
  {
   "cell_type": "code",
   "execution_count": 9,
   "metadata": {},
   "outputs": [],
   "source": [
    "# Create our session (link) from Python to the DB\n",
    "session = Session(engine)"
   ]
  },
  {
   "cell_type": "markdown",
   "metadata": {},
   "source": [
    "# Exploratory Climate Analysis"
   ]
  },
  {
   "cell_type": "code",
   "execution_count": 10,
   "metadata": {},
   "outputs": [
    {
     "data": {
      "text/plain": [
       "['measurement', 'station']"
      ]
     },
     "execution_count": 10,
     "metadata": {},
     "output_type": "execute_result"
    }
   ],
   "source": [
    "#Showing table names.\n",
    "inspector = inspect(engine)\n",
    "inspector.get_table_names()"
   ]
  },
  {
   "cell_type": "code",
   "execution_count": 11,
   "metadata": {},
   "outputs": [
    {
     "name": "stdout",
     "output_type": "stream",
     "text": [
      "id INTEGER\n",
      "station TEXT\n",
      "date TEXT\n",
      "prcp FLOAT\n",
      "tobs FLOAT\n"
     ]
    }
   ],
   "source": [
    "#show column names\n",
    "columns = inspector.get_columns('measurement')\n",
    "for n in columns:\n",
    "    print(n['name'], n['type'])"
   ]
  },
  {
   "cell_type": "code",
   "execution_count": 12,
   "metadata": {},
   "outputs": [
    {
     "name": "stdout",
     "output_type": "stream",
     "text": [
      "id INTEGER\n",
      "station TEXT\n",
      "name TEXT\n",
      "latitude FLOAT\n",
      "longitude FLOAT\n",
      "elevation FLOAT\n"
     ]
    }
   ],
   "source": [
    "#show column names\n",
    "columns = inspector.get_columns('station')\n",
    "for n in columns:\n",
    "    print(n['name'], n['type'])"
   ]
  },
  {
   "cell_type": "code",
   "execution_count": 13,
   "metadata": {},
   "outputs": [
    {
     "data": {
      "text/plain": [
       "[(2724, 'USC00519397', '2017-08-23', 0.0, 81.0),\n",
       " (7635, 'USC00514830', '2017-08-23', 0.0, 82.0),\n",
       " (12187, 'USC00519523', '2017-08-23', 0.08, 82.0),\n",
       " (19550, 'USC00516128', '2017-08-23', 0.45, 76.0),\n",
       " (2723, 'USC00519397', '2017-08-22', 0.0, 82.0)]"
      ]
     },
     "execution_count": 13,
     "metadata": {},
     "output_type": "execute_result"
    }
   ],
   "source": [
    "#showing date in desc in order to determine checkpoint for last 12 months.\n",
    "engine.execute(\"select * from measurement order by date desc limit 5\").fetchall()"
   ]
  },
  {
   "cell_type": "code",
   "execution_count": 14,
   "metadata": {},
   "outputs": [
    {
     "data": {
      "text/plain": [
       "[(1, 'USC00519397', 'WAIKIKI 717.2, HI US', 21.2716, -157.8168, 3.0),\n",
       " (2, 'USC00513117', 'KANEOHE 838.1, HI US', 21.4234, -157.8015, 14.6),\n",
       " (3, 'USC00514830', 'KUALOA RANCH HEADQUARTERS 886.9, HI US', 21.5213, -157.8374, 7.0),\n",
       " (4, 'USC00517948', 'PEARL CITY, HI US', 21.3934, -157.9751, 11.9),\n",
       " (5, 'USC00518838', 'UPPER WAHIAWA 874.3, HI US', 21.4992, -158.0111, 306.6)]"
      ]
     },
     "execution_count": 14,
     "metadata": {},
     "output_type": "execute_result"
    }
   ],
   "source": [
    "engine.execute(\"select * from station limit 5\").fetchall()"
   ]
  },
  {
   "cell_type": "code",
   "execution_count": 15,
   "metadata": {},
   "outputs": [
    {
     "data": {
      "text/plain": [
       "<sqlalchemy.orm.query.Query at 0x19f82fdb1d0>"
      ]
     },
     "execution_count": 15,
     "metadata": {},
     "output_type": "execute_result"
    }
   ],
   "source": [
    "# Design a query to retrieve the last 12 months of precipitation data and plot the results\n",
    "# Perform a query to retrieve the data and precipitation scores\n",
    "last_12m = session.query(Measurement.date, Measurement.prcp).filter(Measurement.date >= '2016-8-23')\n",
    "last_12m"
   ]
  },
  {
   "cell_type": "code",
   "execution_count": 16,
   "metadata": {},
   "outputs": [],
   "source": [
    "last_day = session.query(Measurement.date).order_by(Measurement.date.desc()).first()\n",
    "last_day\n",
    "last_day = pd.to_datetime(last_day).date"
   ]
  },
  {
   "cell_type": "code",
   "execution_count": 17,
   "metadata": {},
   "outputs": [
    {
     "data": {
      "text/plain": [
       "array([datetime.date(2016, 8, 23)], dtype=object)"
      ]
     },
     "execution_count": 17,
     "metadata": {},
     "output_type": "execute_result"
    }
   ],
   "source": [
    "# Calculate the date 1 year ago from the last data point in the database\n",
    "last_year = last_day - dt.timedelta(days=365)\n",
    "last_year"
   ]
  },
  {
   "cell_type": "code",
   "execution_count": 18,
   "metadata": {},
   "outputs": [
    {
     "data": {
      "text/html": [
       "<div>\n",
       "<style scoped>\n",
       "    .dataframe tbody tr th:only-of-type {\n",
       "        vertical-align: middle;\n",
       "    }\n",
       "\n",
       "    .dataframe tbody tr th {\n",
       "        vertical-align: top;\n",
       "    }\n",
       "\n",
       "    .dataframe thead th {\n",
       "        text-align: right;\n",
       "    }\n",
       "</style>\n",
       "<table border=\"1\" class=\"dataframe\">\n",
       "  <thead>\n",
       "    <tr style=\"text-align: right;\">\n",
       "      <th></th>\n",
       "      <th>prcp</th>\n",
       "    </tr>\n",
       "    <tr>\n",
       "      <th>date</th>\n",
       "      <th></th>\n",
       "    </tr>\n",
       "  </thead>\n",
       "  <tbody>\n",
       "    <tr>\n",
       "      <th>2017-01-01</th>\n",
       "      <td>0.0</td>\n",
       "    </tr>\n",
       "    <tr>\n",
       "      <th>2017-01-02</th>\n",
       "      <td>0.0</td>\n",
       "    </tr>\n",
       "    <tr>\n",
       "      <th>2017-01-03</th>\n",
       "      <td>0.0</td>\n",
       "    </tr>\n",
       "    <tr>\n",
       "      <th>2017-01-04</th>\n",
       "      <td>0.0</td>\n",
       "    </tr>\n",
       "    <tr>\n",
       "      <th>2017-01-05</th>\n",
       "      <td>0.0</td>\n",
       "    </tr>\n",
       "  </tbody>\n",
       "</table>\n",
       "</div>"
      ],
      "text/plain": [
       "            prcp\n",
       "date            \n",
       "2017-01-01   0.0\n",
       "2017-01-02   0.0\n",
       "2017-01-03   0.0\n",
       "2017-01-04   0.0\n",
       "2017-01-05   0.0"
      ]
     },
     "execution_count": 18,
     "metadata": {},
     "output_type": "execute_result"
    }
   ],
   "source": [
    "# Save the query results as a Pandas DataFrame and set the index to the date column\n",
    "# Sort the dataframe by date\n",
    "df_last_12 = pd.read_sql_query(last_12m.statement, engine, index_col='date')\n",
    "df_last_12.head()"
   ]
  },
  {
   "cell_type": "code",
   "execution_count": 19,
   "metadata": {},
   "outputs": [
    {
     "data": {
      "text/plain": [
       "pandas.core.frame.DataFrame"
      ]
     },
     "execution_count": 19,
     "metadata": {},
     "output_type": "execute_result"
    }
   ],
   "source": [
    "type(df_last_12)"
   ]
  },
  {
   "cell_type": "code",
   "execution_count": 20,
   "metadata": {},
   "outputs": [
    {
     "data": {
      "image/png": "[encoded data removed]",
      "text/plain": [
       "<Figure size 432x288 with 1 Axes>"
      ]
     },
     "metadata": {
      "needs_background": "light"
     },
     "output_type": "display_data"
    }
   ],
   "source": [
    "# Use Pandas Plotting with Matplotlib to plot the data\n",
    "df_last_12.plot()\n",
    "plt.show()"
   ]
  },
  {
   "cell_type": "markdown",
   "metadata": {},
   "source": [
    "![precipitation](Images/precipitation.png)"
   ]
  },
  {
   "cell_type": "code",
   "execution_count": 21,
   "metadata": {},
   "outputs": [
    {
     "data": {
      "text/html": [
       "<div>\n",
       "<style scoped>\n",
       "    .dataframe tbody tr th:only-of-type {\n",
       "        vertical-align: middle;\n",
       "    }\n",
       "\n",
       "    .dataframe tbody tr th {\n",
       "        vertical-align: top;\n",
       "    }\n",
       "\n",
       "    .dataframe thead th {\n",
       "        text-align: right;\n",
       "    }\n",
       "</style>\n",
       "<table border=\"1\" class=\"dataframe\">\n",
       "  <thead>\n",
       "    <tr style=\"text-align: right;\">\n",
       "      <th></th>\n",
       "      <th>prcp</th>\n",
       "    </tr>\n",
       "  </thead>\n",
       "  <tbody>\n",
       "    <tr>\n",
       "      <th>count</th>\n",
       "      <td>1267.000000</td>\n",
       "    </tr>\n",
       "    <tr>\n",
       "      <th>mean</th>\n",
       "      <td>0.165927</td>\n",
       "    </tr>\n",
       "    <tr>\n",
       "      <th>std</th>\n",
       "      <td>0.453913</td>\n",
       "    </tr>\n",
       "    <tr>\n",
       "      <th>min</th>\n",
       "      <td>0.000000</td>\n",
       "    </tr>\n",
       "    <tr>\n",
       "      <th>25%</th>\n",
       "      <td>0.000000</td>\n",
       "    </tr>\n",
       "    <tr>\n",
       "      <th>50%</th>\n",
       "      <td>0.000000</td>\n",
       "    </tr>\n",
       "    <tr>\n",
       "      <th>75%</th>\n",
       "      <td>0.105000</td>\n",
       "    </tr>\n",
       "    <tr>\n",
       "      <th>max</th>\n",
       "      <td>6.250000</td>\n",
       "    </tr>\n",
       "  </tbody>\n",
       "</table>\n",
       "</div>"
      ],
      "text/plain": [
       "              prcp\n",
       "count  1267.000000\n",
       "mean      0.165927\n",
       "std       0.453913\n",
       "min       0.000000\n",
       "25%       0.000000\n",
       "50%       0.000000\n",
       "75%       0.105000\n",
       "max       6.250000"
      ]
     },
     "execution_count": 21,
     "metadata": {},
     "output_type": "execute_result"
    }
   ],
   "source": [
    "# Use Pandas to calcualte the summary statistics for the precipitation data\n",
    "df_last_12.describe()"
   ]
  },
  {
   "cell_type": "markdown",
   "metadata": {},
   "source": [
    "![describe](Images/describe.png)"
   ]
  },
  {
   "cell_type": "code",
   "execution_count": 22,
   "metadata": {},
   "outputs": [],
   "source": [
    "# Design a query to show how many stations are available in this dataset?\n",
    "station_num = session.query(Station.station).count()"
   ]
  },
  {
   "cell_type": "code",
   "execution_count": 23,
   "metadata": {},
   "outputs": [
    {
     "data": {
      "text/plain": [
       "9"
      ]
     },
     "execution_count": 23,
     "metadata": {},
     "output_type": "execute_result"
    }
   ],
   "source": [
    "station_num"
   ]
  },
  {
   "cell_type": "code",
   "execution_count": 24,
   "metadata": {},
   "outputs": [],
   "source": [
    "# What are the most active stations? (i.e. what stations have the most rows)?\n",
    "# List the stations and the counts in descending order.\n",
    "active_stations = session.query(Measurement.station, func.count(Measurement.station)).\\\n",
    "group_by(Measurement.station).\\\n",
    "order_by(func.count(Measurement.station).desc()).all()"
   ]
  },
  {
   "cell_type": "code",
   "execution_count": 25,
   "metadata": {},
   "outputs": [
    {
     "data": {
      "text/plain": [
       "[('USC00519281', 2772),\n",
       " ('USC00519397', 2724),\n",
       " ('USC00513117', 2709),\n",
       " ('USC00519523', 2669),\n",
       " ('USC00516128', 2612),\n",
       " ('USC00514830', 2202),\n",
       " ('USC00511918', 1979),\n",
       " ('USC00517948', 1372),\n",
       " ('USC00518838', 511)]"
      ]
     },
     "execution_count": 25,
     "metadata": {},
     "output_type": "execute_result"
    }
   ],
   "source": [
    "active_stations"
   ]
  },
  {
   "cell_type": "code",
   "execution_count": 26,
   "metadata": {},
   "outputs": [
    {
     "data": {
      "text/plain": [
       "('USC00519281', 2772)"
      ]
     },
     "execution_count": 26,
     "metadata": {},
     "output_type": "execute_result"
    }
   ],
   "source": [
    "most_active = active_stations[0]\n",
    "most_active"
   ]
  },
  {
   "cell_type": "code",
   "execution_count": 27,
   "metadata": {},
   "outputs": [],
   "source": [
    "# Using the station id from the previous query, calculate the lowest temperature recorded, \n",
    "# highest temperature recorded, and average temperature most active station?\n",
    "most_active_station_temp = session.query(Measurement.station,\\\n",
    "                            Measurement.tobs).filter(Measurement.station == most_active.station,\\\n",
    "                                                     Measurement.date > '2016-8-23').all()"
   ]
  },
  {
   "cell_type": "code",
   "execution_count": 28,
   "metadata": {},
   "outputs": [
    {
     "data": {
      "text/plain": [
       "[('USC00519281', 72.0),\n",
       " ('USC00519281', 70.0),\n",
       " ('USC00519281', 64.0),\n",
       " ('USC00519281', 63.0),\n",
       " ('USC00519281', 63.0),\n",
       " ('USC00519281', 62.0),\n",
       " ('USC00519281', 70.0),\n",
       " ('USC00519281', 70.0),\n",
       " ('USC00519281', 62.0),\n",
       " ('USC00519281', 62.0),\n",
       " ('USC00519281', 63.0),\n",
       " ('USC00519281', 65.0),\n",
       " ('USC00519281', 69.0),\n",
       " ('USC00519281', 77.0),\n",
       " ('USC00519281', 70.0),\n",
       " ('USC00519281', 74.0),\n",
       " ('USC00519281', 69.0),\n",
       " ('USC00519281', 72.0),\n",
       " ('USC00519281', 71.0),\n",
       " ('USC00519281', 69.0),\n",
       " ('USC00519281', 71.0),\n",
       " ('USC00519281', 71.0),\n",
       " ('USC00519281', 72.0),\n",
       " ('USC00519281', 72.0),\n",
       " ('USC00519281', 69.0),\n",
       " ('USC00519281', 70.0),\n",
       " ('USC00519281', 66.0),\n",
       " ('USC00519281', 65.0),\n",
       " ('USC00519281', 69.0),\n",
       " ('USC00519281', 68.0),\n",
       " ('USC00519281', 68.0),\n",
       " ('USC00519281', 68.0),\n",
       " ('USC00519281', 59.0),\n",
       " ('USC00519281', 60.0),\n",
       " ('USC00519281', 70.0),\n",
       " ('USC00519281', 73.0),\n",
       " ('USC00519281', 75.0),\n",
       " ('USC00519281', 64.0),\n",
       " ('USC00519281', 59.0),\n",
       " ('USC00519281', 59.0),\n",
       " ('USC00519281', 62.0),\n",
       " ('USC00519281', 68.0),\n",
       " ('USC00519281', 70.0),\n",
       " ('USC00519281', 73.0),\n",
       " ('USC00519281', 79.0),\n",
       " ('USC00519281', 75.0),\n",
       " ('USC00519281', 65.0),\n",
       " ('USC00519281', 70.0),\n",
       " ('USC00519281', 74.0),\n",
       " ('USC00519281', 70.0),\n",
       " ('USC00519281', 70.0),\n",
       " ('USC00519281', 71.0),\n",
       " ('USC00519281', 71.0),\n",
       " ('USC00519281', 71.0),\n",
       " ('USC00519281', 69.0),\n",
       " ('USC00519281', 61.0),\n",
       " ('USC00519281', 67.0),\n",
       " ('USC00519281', 65.0),\n",
       " ('USC00519281', 72.0),\n",
       " ('USC00519281', 71.0),\n",
       " ('USC00519281', 73.0),\n",
       " ('USC00519281', 72.0),\n",
       " ('USC00519281', 77.0),\n",
       " ('USC00519281', 73.0),\n",
       " ('USC00519281', 67.0),\n",
       " ('USC00519281', 62.0),\n",
       " ('USC00519281', 64.0),\n",
       " ('USC00519281', 67.0),\n",
       " ('USC00519281', 66.0),\n",
       " ('USC00519281', 81.0),\n",
       " ('USC00519281', 69.0),\n",
       " ('USC00519281', 66.0),\n",
       " ('USC00519281', 67.0),\n",
       " ('USC00519281', 69.0),\n",
       " ('USC00519281', 66.0),\n",
       " ('USC00519281', 68.0),\n",
       " ('USC00519281', 65.0),\n",
       " ('USC00519281', 74.0),\n",
       " ('USC00519281', 69.0),\n",
       " ('USC00519281', 72.0),\n",
       " ('USC00519281', 73.0),\n",
       " ('USC00519281', 72.0),\n",
       " ('USC00519281', 71.0),\n",
       " ('USC00519281', 76.0),\n",
       " ('USC00519281', 77.0),\n",
       " ('USC00519281', 76.0),\n",
       " ('USC00519281', 74.0),\n",
       " ('USC00519281', 68.0),\n",
       " ('USC00519281', 73.0),\n",
       " ('USC00519281', 71.0),\n",
       " ('USC00519281', 74.0),\n",
       " ('USC00519281', 75.0),\n",
       " ('USC00519281', 70.0),\n",
       " ('USC00519281', 67.0),\n",
       " ('USC00519281', 71.0),\n",
       " ('USC00519281', 67.0),\n",
       " ('USC00519281', 74.0),\n",
       " ('USC00519281', 77.0),\n",
       " ('USC00519281', 78.0),\n",
       " ('USC00519281', 67.0),\n",
       " ('USC00519281', 70.0),\n",
       " ('USC00519281', 69.0),\n",
       " ('USC00519281', 69.0),\n",
       " ('USC00519281', 74.0),\n",
       " ('USC00519281', 78.0),\n",
       " ('USC00519281', 71.0),\n",
       " ('USC00519281', 67.0),\n",
       " ('USC00519281', 68.0),\n",
       " ('USC00519281', 67.0),\n",
       " ('USC00519281', 76.0),\n",
       " ('USC00519281', 69.0),\n",
       " ('USC00519281', 72.0),\n",
       " ('USC00519281', 76.0),\n",
       " ('USC00519281', 68.0),\n",
       " ('USC00519281', 72.0),\n",
       " ('USC00519281', 74.0),\n",
       " ('USC00519281', 70.0),\n",
       " ('USC00519281', 67.0),\n",
       " ('USC00519281', 72.0),\n",
       " ('USC00519281', 60.0),\n",
       " ('USC00519281', 65.0),\n",
       " ('USC00519281', 75.0),\n",
       " ('USC00519281', 70.0),\n",
       " ('USC00519281', 75.0),\n",
       " ('USC00519281', 70.0),\n",
       " ('USC00519281', 79.0),\n",
       " ('USC00519281', 75.0),\n",
       " ('USC00519281', 70.0),\n",
       " ('USC00519281', 67.0),\n",
       " ('USC00519281', 74.0),\n",
       " ('USC00519281', 70.0),\n",
       " ('USC00519281', 75.0),\n",
       " ('USC00519281', 76.0),\n",
       " ('USC00519281', 77.0),\n",
       " ('USC00519281', 74.0),\n",
       " ('USC00519281', 74.0),\n",
       " ('USC00519281', 74.0),\n",
       " ('USC00519281', 69.0),\n",
       " ('USC00519281', 68.0),\n",
       " ('USC00519281', 76.0),\n",
       " ('USC00519281', 74.0),\n",
       " ('USC00519281', 71.0),\n",
       " ('USC00519281', 71.0),\n",
       " ('USC00519281', 74.0),\n",
       " ('USC00519281', 74.0),\n",
       " ('USC00519281', 74.0),\n",
       " ('USC00519281', 74.0),\n",
       " ('USC00519281', 80.0),\n",
       " ('USC00519281', 74.0),\n",
       " ('USC00519281', 72.0),\n",
       " ('USC00519281', 75.0),\n",
       " ('USC00519281', 80.0),\n",
       " ('USC00519281', 76.0),\n",
       " ('USC00519281', 76.0),\n",
       " ('USC00519281', 77.0),\n",
       " ('USC00519281', 75.0),\n",
       " ('USC00519281', 75.0),\n",
       " ('USC00519281', 75.0),\n",
       " ('USC00519281', 75.0),\n",
       " ('USC00519281', 72.0),\n",
       " ('USC00519281', 74.0),\n",
       " ('USC00519281', 74.0),\n",
       " ('USC00519281', 74.0),\n",
       " ('USC00519281', 76.0),\n",
       " ('USC00519281', 74.0),\n",
       " ('USC00519281', 75.0),\n",
       " ('USC00519281', 73.0),\n",
       " ('USC00519281', 79.0),\n",
       " ('USC00519281', 75.0),\n",
       " ('USC00519281', 72.0),\n",
       " ('USC00519281', 72.0),\n",
       " ('USC00519281', 74.0),\n",
       " ('USC00519281', 72.0),\n",
       " ('USC00519281', 72.0),\n",
       " ('USC00519281', 77.0),\n",
       " ('USC00519281', 71.0),\n",
       " ('USC00519281', 73.0),\n",
       " ('USC00519281', 76.0),\n",
       " ('USC00519281', 77.0),\n",
       " ('USC00519281', 76.0),\n",
       " ('USC00519281', 76.0),\n",
       " ('USC00519281', 79.0),\n",
       " ('USC00519281', 81.0),\n",
       " ('USC00519281', 76.0),\n",
       " ('USC00519281', 78.0),\n",
       " ('USC00519281', 77.0),\n",
       " ('USC00519281', 74.0),\n",
       " ('USC00519281', 75.0),\n",
       " ('USC00519281', 78.0),\n",
       " ('USC00519281', 78.0),\n",
       " ('USC00519281', 69.0),\n",
       " ('USC00519281', 72.0),\n",
       " ('USC00519281', 74.0),\n",
       " ('USC00519281', 74.0),\n",
       " ('USC00519281', 76.0),\n",
       " ('USC00519281', 80.0),\n",
       " ('USC00519281', 80.0),\n",
       " ('USC00519281', 76.0),\n",
       " ('USC00519281', 76.0),\n",
       " ('USC00519281', 76.0),\n",
       " ('USC00519281', 77.0),\n",
       " ('USC00519281', 77.0),\n",
       " ('USC00519281', 77.0),\n",
       " ('USC00519281', 82.0),\n",
       " ('USC00519281', 75.0),\n",
       " ('USC00519281', 77.0),\n",
       " ('USC00519281', 75.0),\n",
       " ('USC00519281', 76.0),\n",
       " ('USC00519281', 81.0),\n",
       " ('USC00519281', 82.0),\n",
       " ('USC00519281', 81.0),\n",
       " ('USC00519281', 76.0),\n",
       " ('USC00519281', 77.0),\n",
       " ('USC00519281', 82.0),\n",
       " ('USC00519281', 83.0),\n",
       " ('USC00519281', 77.0),\n",
       " ('USC00519281', 77.0),\n",
       " ('USC00519281', 77.0),\n",
       " ('USC00519281', 76.0),\n",
       " ('USC00519281', 76.0),\n",
       " ('USC00519281', 79.0)]"
      ]
     },
     "execution_count": 28,
     "metadata": {},
     "output_type": "execute_result"
    }
   ],
   "source": [
    "most_active_station_temp"
   ]
  },
  {
   "cell_type": "code",
   "execution_count": 29,
   "metadata": {},
   "outputs": [
    {
     "name": "stdout",
     "output_type": "stream",
     "text": [
      "72.0\n",
      "70.0\n",
      "64.0\n",
      "63.0\n",
      "63.0\n",
      "62.0\n",
      "70.0\n",
      "70.0\n",
      "62.0\n",
      "62.0\n",
      "63.0\n",
      "65.0\n",
      "69.0\n",
      "77.0\n",
      "70.0\n",
      "74.0\n",
      "69.0\n",
      "72.0\n",
      "71.0\n",
      "69.0\n",
      "71.0\n",
      "71.0\n",
      "72.0\n",
      "72.0\n",
      "69.0\n",
      "70.0\n",
      "66.0\n",
      "65.0\n",
      "69.0\n",
      "68.0\n",
      "68.0\n",
      "68.0\n",
      "59.0\n",
      "60.0\n",
      "70.0\n",
      "73.0\n",
      "75.0\n",
      "64.0\n",
      "59.0\n",
      "59.0\n",
      "62.0\n",
      "68.0\n",
      "70.0\n",
      "73.0\n",
      "79.0\n",
      "75.0\n",
      "65.0\n",
      "70.0\n",
      "74.0\n",
      "70.0\n",
      "70.0\n",
      "71.0\n",
      "71.0\n",
      "71.0\n",
      "69.0\n",
      "61.0\n",
      "67.0\n",
      "65.0\n",
      "72.0\n",
      "71.0\n",
      "73.0\n",
      "72.0\n",
      "77.0\n",
      "73.0\n",
      "67.0\n",
      "62.0\n",
      "64.0\n",
      "67.0\n",
      "66.0\n",
      "81.0\n",
      "69.0\n",
      "66.0\n",
      "67.0\n",
      "69.0\n",
      "66.0\n",
      "68.0\n",
      "65.0\n",
      "74.0\n",
      "69.0\n",
      "72.0\n",
      "73.0\n",
      "72.0\n",
      "71.0\n",
      "76.0\n",
      "77.0\n",
      "76.0\n",
      "74.0\n",
      "68.0\n",
      "73.0\n",
      "71.0\n",
      "74.0\n",
      "75.0\n",
      "70.0\n",
      "67.0\n",
      "71.0\n",
      "67.0\n",
      "74.0\n",
      "77.0\n",
      "78.0\n",
      "67.0\n",
      "70.0\n",
      "69.0\n",
      "69.0\n",
      "74.0\n",
      "78.0\n",
      "71.0\n",
      "67.0\n",
      "68.0\n",
      "67.0\n",
      "76.0\n",
      "69.0\n",
      "72.0\n",
      "76.0\n",
      "68.0\n",
      "72.0\n",
      "74.0\n",
      "70.0\n",
      "67.0\n",
      "72.0\n",
      "60.0\n",
      "65.0\n",
      "75.0\n",
      "70.0\n",
      "75.0\n",
      "70.0\n",
      "79.0\n",
      "75.0\n",
      "70.0\n",
      "67.0\n",
      "74.0\n",
      "70.0\n",
      "75.0\n",
      "76.0\n",
      "77.0\n",
      "74.0\n",
      "74.0\n",
      "74.0\n",
      "69.0\n",
      "68.0\n",
      "76.0\n",
      "74.0\n",
      "71.0\n",
      "71.0\n",
      "74.0\n",
      "74.0\n",
      "74.0\n",
      "74.0\n",
      "80.0\n",
      "74.0\n",
      "72.0\n",
      "75.0\n",
      "80.0\n",
      "76.0\n",
      "76.0\n",
      "77.0\n",
      "75.0\n",
      "75.0\n",
      "75.0\n",
      "75.0\n",
      "72.0\n",
      "74.0\n",
      "74.0\n",
      "74.0\n",
      "76.0\n",
      "74.0\n",
      "75.0\n",
      "73.0\n",
      "79.0\n",
      "75.0\n",
      "72.0\n",
      "72.0\n",
      "74.0\n",
      "72.0\n",
      "72.0\n",
      "77.0\n",
      "71.0\n",
      "73.0\n",
      "76.0\n",
      "77.0\n",
      "76.0\n",
      "76.0\n",
      "79.0\n",
      "81.0\n",
      "76.0\n",
      "78.0\n",
      "77.0\n",
      "74.0\n",
      "75.0\n",
      "78.0\n",
      "78.0\n",
      "69.0\n",
      "72.0\n",
      "74.0\n",
      "74.0\n",
      "76.0\n",
      "80.0\n",
      "80.0\n",
      "76.0\n",
      "76.0\n",
      "76.0\n",
      "77.0\n",
      "77.0\n",
      "77.0\n",
      "82.0\n",
      "75.0\n",
      "77.0\n",
      "75.0\n",
      "76.0\n",
      "81.0\n",
      "82.0\n",
      "81.0\n",
      "76.0\n",
      "77.0\n",
      "82.0\n",
      "83.0\n",
      "77.0\n",
      "77.0\n",
      "77.0\n",
      "76.0\n",
      "76.0\n",
      "79.0\n"
     ]
    }
   ],
   "source": [
    "temp =[]\n",
    "for t in most_active_station_temp:\n",
    "    temp.append(t[1])\n",
    "    print(t[1])\n",
    "\n",
    "    "
   ]
  },
  {
   "cell_type": "code",
   "execution_count": 30,
   "metadata": {},
   "outputs": [
    {
     "data": {
      "image/png": "[encoded data removed]",
      "text/plain": [
       "<Figure size 432x288 with 1 Axes>"
      ]
     },
     "metadata": {
      "needs_background": "light"
     },
     "output_type": "display_data"
    }
   ],
   "source": [
    "# Choose the station with the highest number of temperature observations.\n",
    "# Query the last 12 months of temperature observation data for this station and plot the results as a histogram\n",
    "plt.hist(temp, bins=12) # how does the hist choose to count freq for different timps\n",
    "plt.title(\"Temperature Frequency\")\n",
    "plt.grid(True)\n",
    "plt.figsize = (18,8)\n",
    "plt.xlabel(\"Temperature\")\n",
    "plt.ylabel(\"Frequency\")\n",
    "plt.show()"
   ]
  },
  {
   "cell_type": "markdown",
   "metadata": {},
   "source": [
    "![precipitation](Images/station-histogram.png)"
   ]
  },
  {
   "cell_type": "code",
   "execution_count": 31,
   "metadata": {},
   "outputs": [
    {
     "name": "stdout",
     "output_type": "stream",
     "text": [
      "[(62.0, 69.57142857142857, 74.0)]\n"
     ]
    }
   ],
   "source": [
    "# This function called `calc_temps` will accept start date and end date in the format '%Y-%m-%d' \n",
    "# and return the minimum, average, and maximum temperatures for that range of dates\n",
    "def calc_temps(start_date, end_date):\n",
    "    \"\"\"TMIN, TAVG, and TMAX for a list of dates.\n",
    "    \n",
    "    Args:\n",
    "        start_date (string): A date string in the format %Y-%m-%d\n",
    "        end_date (string): A date string in the format %Y-%m-%d\n",
    "        \n",
    "    Returns:\n",
    "        TMIN, TAVE, and TMAX\n",
    "    \"\"\"\n",
    "    \n",
    "    return session.query(func.min(Measurement.tobs), func.avg(Measurement.tobs), func.max(Measurement.tobs)).\\\n",
    "        filter(Measurement.date >= start_date).filter(Measurement.date <= end_date).all()\n",
    "\n",
    "# function usage example\n",
    "print(calc_temps('2012-02-28', '2012-03-05'))"
   ]
  },
  {
   "cell_type": "code",
   "execution_count": 32,
   "metadata": {},
   "outputs": [
    {
     "name": "stdout",
     "output_type": "stream",
     "text": [
      "[(58.0, 74.14387974230493, 87.0)]\n"
     ]
    }
   ],
   "source": [
    "# Use your previous function `calc_temps` to calculate the tmin, tavg, and tmax \n",
    "# for your trip using the previous year's data for those same dates.\n",
    "temp_stats = calc_temps('2016-8-23', '2017-8-23')\n",
    "print(calc_temps('2016-8-23', '2017-8-23'))"
   ]
  },
  {
   "cell_type": "markdown",
   "metadata": {},
   "source": [
    "API in app.py\n"
   ]
  }
 ],
 "metadata": {
  "kernel_info": {
   "name": "python3"
  },
  "kernelspec": {
   "display_name": "Python 3",
   "language": "python",
   "name": "python3"
  },
  "language_info": {
   "codemirror_mode": {
    "name": "ipython",
    "version": 3
   },
   "file_extension": ".py",
   "mimetype": "text/x-python",
   "name": "python",
   "nbconvert_exporter": "python",
   "pygments_lexer": "ipython3",
   "version": "3.7.1"
  },
  "nteract": {
   "version": "0.12.3"
  },
  "varInspector": {
   "cols": {
    "lenName": 16,
    "lenType": 16,
    "lenVar": 40
   },
   "kernels_config": {
    "python": {
     "delete_cmd_postfix": "",
     "delete_cmd_prefix": "del ",
     "library": "var_list.py",
     "varRefreshCmd": "print(var_dic_list())"
    },
    "r": {
     "delete_cmd_postfix": ") ",
     "delete_cmd_prefix": "rm(",
     "library": "var_list.r",
     "varRefreshCmd": "cat(var_dic_list()) "
    }
   },
   "types_to_exclude": [
    "module",
    "function",
    "builtin_function_or_method",
    "instance",
    "_Feature"
   ],
   "window_display": false
  }
 },
 "nbformat": 4,
 "nbformat_minor": 2
}
